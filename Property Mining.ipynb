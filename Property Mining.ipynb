{
 "cells": [
  {
   "cell_type": "code",
   "execution_count": 1,
   "metadata": {},
   "outputs": [
    {
     "name": "stdout",
     "output_type": "stream",
     "text": [
      "Requirement already satisfied: en_core_web_sm==2.3.1 from https://github.com/explosion/spacy-models/releases/download/en_core_web_sm-2.3.1/en_core_web_sm-2.3.1.tar.gz#egg=en_core_web_sm==2.3.1 in /opt/miniconda3/lib/python3.8/site-packages (2.3.1)\n",
      "Requirement already satisfied: spacy<2.4.0,>=2.3.0 in /opt/miniconda3/lib/python3.8/site-packages (from en_core_web_sm==2.3.1) (2.3.2)\n",
      "Requirement already satisfied: cymem<2.1.0,>=2.0.2 in /opt/miniconda3/lib/python3.8/site-packages (from spacy<2.4.0,>=2.3.0->en_core_web_sm==2.3.1) (2.0.3)\n",
      "Requirement already satisfied: requests<3.0.0,>=2.13.0 in /opt/miniconda3/lib/python3.8/site-packages (from spacy<2.4.0,>=2.3.0->en_core_web_sm==2.3.1) (2.23.0)\n",
      "Requirement already satisfied: tqdm<5.0.0,>=4.38.0 in /opt/miniconda3/lib/python3.8/site-packages (from spacy<2.4.0,>=2.3.0->en_core_web_sm==2.3.1) (4.46.0)\n",
      "Requirement already satisfied: catalogue<1.1.0,>=0.0.7 in /opt/miniconda3/lib/python3.8/site-packages (from spacy<2.4.0,>=2.3.0->en_core_web_sm==2.3.1) (1.0.0)\n",
      "Requirement already satisfied: blis<0.5.0,>=0.4.0 in /opt/miniconda3/lib/python3.8/site-packages (from spacy<2.4.0,>=2.3.0->en_core_web_sm==2.3.1) (0.4.1)\n",
      "Requirement already satisfied: wasabi<1.1.0,>=0.4.0 in /opt/miniconda3/lib/python3.8/site-packages (from spacy<2.4.0,>=2.3.0->en_core_web_sm==2.3.1) (0.8.0)\n",
      "Requirement already satisfied: murmurhash<1.1.0,>=0.28.0 in /opt/miniconda3/lib/python3.8/site-packages (from spacy<2.4.0,>=2.3.0->en_core_web_sm==2.3.1) (1.0.2)\n",
      "Requirement already satisfied: srsly<1.1.0,>=1.0.2 in /opt/miniconda3/lib/python3.8/site-packages (from spacy<2.4.0,>=2.3.0->en_core_web_sm==2.3.1) (1.0.2)\n",
      "Requirement already satisfied: numpy>=1.15.0 in /opt/miniconda3/lib/python3.8/site-packages (from spacy<2.4.0,>=2.3.0->en_core_web_sm==2.3.1) (1.16.3)\n",
      "Requirement already satisfied: thinc==7.4.1 in /opt/miniconda3/lib/python3.8/site-packages (from spacy<2.4.0,>=2.3.0->en_core_web_sm==2.3.1) (7.4.1)\n",
      "Requirement already satisfied: setuptools in /opt/miniconda3/lib/python3.8/site-packages (from spacy<2.4.0,>=2.3.0->en_core_web_sm==2.3.1) (47.1.1.post20200604)\n",
      "Requirement already satisfied: preshed<3.1.0,>=3.0.2 in /opt/miniconda3/lib/python3.8/site-packages (from spacy<2.4.0,>=2.3.0->en_core_web_sm==2.3.1) (3.0.2)\n",
      "Requirement already satisfied: plac<1.2.0,>=0.9.6 in /opt/miniconda3/lib/python3.8/site-packages (from spacy<2.4.0,>=2.3.0->en_core_web_sm==2.3.1) (1.1.3)\n",
      "Requirement already satisfied: chardet<4,>=3.0.2 in /opt/miniconda3/lib/python3.8/site-packages (from requests<3.0.0,>=2.13.0->spacy<2.4.0,>=2.3.0->en_core_web_sm==2.3.1) (3.0.4)\n",
      "Requirement already satisfied: idna<3,>=2.5 in /opt/miniconda3/lib/python3.8/site-packages (from requests<3.0.0,>=2.13.0->spacy<2.4.0,>=2.3.0->en_core_web_sm==2.3.1) (2.9)\n",
      "Requirement already satisfied: urllib3!=1.25.0,!=1.25.1,<1.26,>=1.21.1 in /opt/miniconda3/lib/python3.8/site-packages (from requests<3.0.0,>=2.13.0->spacy<2.4.0,>=2.3.0->en_core_web_sm==2.3.1) (1.25.8)\n",
      "Requirement already satisfied: certifi>=2017.4.17 in /opt/miniconda3/lib/python3.8/site-packages (from requests<3.0.0,>=2.13.0->spacy<2.4.0,>=2.3.0->en_core_web_sm==2.3.1) (2020.6.20)\n",
      "\u001b[38;5;2m✔ Download and installation successful\u001b[0m\n",
      "You can now load the model via spacy.load('en_core_web_sm')\n",
      "\u001b[38;5;2m✔ Linking successful\u001b[0m\n",
      "/opt/miniconda3/lib/python3.8/site-packages/en_core_web_sm -->\n",
      "/opt/miniconda3/lib/python3.8/site-packages/spacy/data/en\n",
      "You can now load the model via spacy.load('en')\n"
     ]
    }
   ],
   "source": [
    "import spacy\n",
    "from spacy import displacy\n",
    "import json\n",
    "!python3 -m spacy download en\n",
    "import en_core_web_sm\n",
    "\n",
    "nlp = en_core_web_sm.load()"
   ]
  },
  {
   "cell_type": "markdown",
   "metadata": {},
   "source": [
    "***\n",
    "***TEST PROPOSITIONS***\n",
    "***"
   ]
  },
  {
   "cell_type": "code",
   "execution_count": 2,
   "metadata": {},
   "outputs": [],
   "source": [
    "sentence_group_1 = [\"The whale is an animal.\",\n",
    "\"The blue whale is an animal.\",\n",
    "\"The whale is a quadrupedal mammal.\",\n",
    "\"The chameleon is a polychromatic arboreal insectivore.\",\n",
    "\"Carnivorous spiders are common.\",\n",
    "\"All cephalopods are nocturnal.\",\n",
    "\"The majority of cephalopods are nocturnal.\",\n",
    "\"Some cephalopods are nocturnal.\",\n",
    "\"No cephalopods are nocturnal.\",\n",
    "\"Most terrestrial gastropods are hermaphrodites.\",\n",
    "\"The simplest gastropods are the limpets and abalone.\",\n",
    "\"A cephalopod is any member of the molluscan class Cephalopoda such as a squid, octopus, cuttlefish, or nautilus.\",\n",
    "\"Gastropods were described as gastropodes by Georges Cuiver.\",\n",
    "\"Cephalopods are widely regarded as the most intelligent of the invertebrates.\"]\n",
    "\n",
    "sentence_group_2 = [\"The fastest biped is the ostrich.\",\n",
    "\"Not all tetrapods are quadrupeds and not all quadrupeds are tetrapods.\",\n",
    "\"A tripod stance is a behaviour in which quadruped animals rear up on their hind legs and use their tail to support their weight.\",\n",
    "\"Brontosaurus (meaning \\\"thunder lizard\\\" from Greek βροντή, \\\"thunder\\\" and σαῦρος, \\\"lizard\\\") is a genus of gigantic quadruped sauropod dinosaurs.\",\n",
    "\"Conrad Gessner (1516–1565) was a Swiss naturalist and bibliographer and one of founding figures of modern zoology.\",\n",
    "\"Sound waves with frequency above 20 kHz are called ultrasonic waves and are inaudble to humans, but some animals, like bats and dolphins, use them.\",\n",
    "\"A timer is a kind of clock for measuring time intervals, often with an audible alarm that the time is up.\",\n",
    "\"There is a debate among audiophiles on whether there is an audible difference between tubes and transistors in sound equipment.\",\n",
    "\"A Geiger counter is an instrument that measures ionizing radiation such as alpha particles, beta particles, or gamma rays. The radiation sensor produces a series of audible clicks when radiation is present.\",\n",
    "\"Autophagy is the process that cells use to break down and recycle cellular components.\"]"
   ]
  },
  {
   "cell_type": "markdown",
   "metadata": {},
   "source": [
    "***\n",
    "***HELPERS***\n",
    "***"
   ]
  },
  {
   "cell_type": "code",
   "execution_count": 3,
   "metadata": {},
   "outputs": [],
   "source": [
    "def visualize(doc):\n",
    "    # https://spacy.io/api/top-level#displacy_options\n",
    "    options= {\n",
    "        \"compact\":True,\n",
    "        \"distance\":100,\n",
    "    }\n",
    "    displacy.render(doc, style='dep',jupyter=True,options=options)    \n",
    "    \n",
    "def describe(sentence):\n",
    "    doc = nlp((sentence))\n",
    "    visualize(doc)\n",
    "    print(json.dumps(doc.to_json(), indent=1))    \n",
    "    \n",
    "def first_or_none(lst):\n",
    "    return None if len(lst) == 0 else lst[0]    \n",
    "\n",
    "def flatten(l):\n",
    "    return [item for sublist in l for item in sublist]"
   ]
  },
  {
   "cell_type": "markdown",
   "metadata": {},
   "source": [
    "***\n",
    "***DEPENDENCY TREE PARSING METHODS***\n",
    "***"
   ]
  },
  {
   "cell_type": "code",
   "execution_count": 4,
   "metadata": {},
   "outputs": [],
   "source": [
    "def children_for(json_doc, head_id, recursive=False):\n",
    "    results = []\n",
    "    \n",
    "    for x in json_doc[\"tokens\"]:\n",
    "        if x[\"head\"] == head_id and x[\"id\"] != head_id:\n",
    "            results.append(x)\n",
    "            \n",
    "    if recursive and len(results) > 0:\n",
    "        return results + flatten([children_for(json_doc, r[\"id\"], True) for r in results])\n",
    "    else:\n",
    "        return results\n",
    "\n",
    "def find_token_by_attr(tokens, attr, value):\n",
    "    results = [t for t in tokens if t[attr] == value]\n",
    "    return first_or_none(results)\n",
    "\n",
    "def filter_token_by_attr(tokens, attr, value):\n",
    "    return [t for t in tokens if t[attr] != value]\n",
    "\n",
    "def filter_token_by_attrs(tokens, k_v_pairs):\n",
    "    for key, value in k_v_pairs:\n",
    "        tokens = filter_token_by_attr(tokens, key, value)\n",
    "    return tokens\n",
    "\n",
    "def get_verbs(json_doc, only=None):\n",
    "    results = []\n",
    "    for x in json_doc[\"tokens\"]:\n",
    "        value = value_for_token(x, json_doc)\n",
    "        is_verb = x[\"pos\"] == \"VERB\"\n",
    "        include = only is None or value in only\n",
    "        if is_verb and include:\n",
    "            results.append(x)\n",
    "    return results\n",
    "\n",
    "def sorted_values(tokens, json_doc):\n",
    "    return [value_for_token(t, json_doc) for t in sorted(tokens, key=lambda w: w[\"id\"])]\n",
    "\n",
    "def value_for_token(token, json_doc):\n",
    "    return json_doc[\"text\"][token[\"start\"]:token[\"end\"]].lower()"
   ]
  },
  {
   "cell_type": "code",
   "execution_count": 7,
   "metadata": {},
   "outputs": [],
   "source": [
    "# primary entry point\n",
    "def mine(json_doc):\n",
    "    results = []\n",
    "    \n",
    "    print(get_verbs(json_doc, [\"is\", \"are\", \"were\"]))\n",
    "    \n",
    "    for verb in get_verbs(json_doc, [\"is\", \"are\", \"were\"]):\n",
    "        children = children_for(json_doc, verb[\"id\"])\n",
    "        subject = find_token_by_attr(children, \"dep\", \"nsubj\")        \n",
    "        other = filter_token_by_attrs(children, [(\"dep\", \"nsubj\"),(\"pos\", \"PUNCT\")])\n",
    "        \n",
    "        if not subject:\n",
    "            continue\n",
    "                    \n",
    "        subject_deps = children_for(json_doc, subject[\"id\"])\n",
    "        subject_deps = filter_token_by_attrs(subject_deps, [(\"pos\", \"DET\"),(\"pos\", \"PUNCT\")])\n",
    "        word = [subject] + subject_deps\n",
    "        \n",
    "        properties = []\n",
    "        \n",
    "        for o in other:\n",
    "            properties.append(o)            \n",
    "            other_deps = children_for(json_doc, o[\"id\"], True)\n",
    "            properties += filter_token_by_attrs(other_deps, [(\"pos\", \"DET\")])\n",
    "            \n",
    "        word = sorted_values(word, json_doc)\n",
    "        properties = sorted_values(properties, json_doc)\n",
    "            \n",
    "        results.append({\n",
    "            \"word\":word,\n",
    "            \"properties\":properties\n",
    "        })\n",
    "        \n",
    "    return results"
   ]
  },
  {
   "cell_type": "markdown",
   "metadata": {},
   "source": [
    "***\n",
    "***WORK IN PROGRESS***\n",
    "***"
   ]
  },
  {
   "cell_type": "code",
   "execution_count": 10,
   "metadata": {},
   "outputs": [
    {
     "name": "stdout",
     "output_type": "stream",
     "text": [
      "{'text': 'The fastest biped is the ostrich.', 'ents': [], 'sents': [{'start': 0, 'end': 33}], 'tokens': [{'id': 0, 'start': 0, 'end': 3, 'pos': 'DET', 'tag': 'DT', 'dep': 'det', 'head': 2}, {'id': 1, 'start': 4, 'end': 11, 'pos': 'ADJ', 'tag': 'JJS', 'dep': 'amod', 'head': 2}, {'id': 2, 'start': 12, 'end': 17, 'pos': 'VERB', 'tag': 'VBN', 'dep': 'nsubj', 'head': 3}, {'id': 3, 'start': 18, 'end': 20, 'pos': 'VERB', 'tag': 'VBZ', 'dep': 'ROOT', 'head': 3}, {'id': 4, 'start': 21, 'end': 24, 'pos': 'DET', 'tag': 'DT', 'dep': 'det', 'head': 5}, {'id': 5, 'start': 25, 'end': 32, 'pos': 'NOUN', 'tag': 'NN', 'dep': 'attr', 'head': 3}, {'id': 6, 'start': 32, 'end': 33, 'pos': 'PUNCT', 'tag': '.', 'dep': 'punct', 'head': 3}]}\n",
      "The fastest biped is the ostrich.\n",
      "\n",
      "[{'id': 3, 'start': 18, 'end': 20, 'pos': 'VERB', 'tag': 'VBZ', 'dep': 'ROOT', 'head': 3}]\n",
      "[{'word': ['fastest', 'biped'], 'properties': ['ostrich']}]\n",
      "{'text': 'Not all tetrapods are quadrupeds and not all quadrupeds are tetrapods.', 'ents': [], 'sents': [{'start': 0, 'end': 70}], 'tokens': [{'id': 0, 'start': 0, 'end': 3, 'pos': 'ADV', 'tag': 'RB', 'dep': 'neg', 'head': 2}, {'id': 1, 'start': 4, 'end': 7, 'pos': 'DET', 'tag': 'DT', 'dep': 'det', 'head': 2}, {'id': 2, 'start': 8, 'end': 17, 'pos': 'NOUN', 'tag': 'NNS', 'dep': 'nsubj', 'head': 3}, {'id': 3, 'start': 18, 'end': 21, 'pos': 'VERB', 'tag': 'VBP', 'dep': 'ROOT', 'head': 3}, {'id': 4, 'start': 22, 'end': 32, 'pos': 'NOUN', 'tag': 'NNS', 'dep': 'attr', 'head': 3}, {'id': 5, 'start': 33, 'end': 36, 'pos': 'CCONJ', 'tag': 'CC', 'dep': 'cc', 'head': 3}, {'id': 6, 'start': 37, 'end': 40, 'pos': 'ADV', 'tag': 'RB', 'dep': 'neg', 'head': 8}, {'id': 7, 'start': 41, 'end': 44, 'pos': 'DET', 'tag': 'DT', 'dep': 'det', 'head': 8}, {'id': 8, 'start': 45, 'end': 55, 'pos': 'NOUN', 'tag': 'NNS', 'dep': 'nsubj', 'head': 9}, {'id': 9, 'start': 56, 'end': 59, 'pos': 'VERB', 'tag': 'VBP', 'dep': 'conj', 'head': 3}, {'id': 10, 'start': 60, 'end': 69, 'pos': 'NOUN', 'tag': 'NNS', 'dep': 'attr', 'head': 9}, {'id': 11, 'start': 69, 'end': 70, 'pos': 'PUNCT', 'tag': '.', 'dep': 'punct', 'head': 9}]}\n",
      "Not all tetrapods are quadrupeds and not all quadrupeds are tetrapods.\n",
      "\n",
      "[{'id': 3, 'start': 18, 'end': 21, 'pos': 'VERB', 'tag': 'VBP', 'dep': 'ROOT', 'head': 3}, {'id': 9, 'start': 56, 'end': 59, 'pos': 'VERB', 'tag': 'VBP', 'dep': 'conj', 'head': 3}]\n",
      "[{'word': ['not', 'tetrapods'], 'properties': ['quadrupeds', 'and', 'not', 'quadrupeds', 'are', 'tetrapods', '.']}, {'word': ['not', 'quadrupeds'], 'properties': ['tetrapods']}]\n"
     ]
    }
   ],
   "source": [
    "for sentence in sentence_group_2[0:2]:\n",
    "    doc = nlp((sentence))\n",
    "    json_doc = doc.to_json()\n",
    "    \n",
    "    print(json_doc)\n",
    "    print(json_doc[\"text\"])\n",
    "    print()\n",
    "    print(mine(json_doc))\n",
    "    # print(json.dumps(mine(json_doc), indent=1))"
   ]
  },
  {
   "cell_type": "code",
   "execution_count": null,
   "metadata": {},
   "outputs": [],
   "source": [
    "sentence_group_3 = [\n",
    "    \"An otolith, also called statoconium or otoconium or statolith, is a calcium carbonate structure in the saccule or utricle of the inner ear, specifically in the vestibular system of vertebrates.\"    \n",
    "]\n",
    "\n",
    "describe(sentence_group_3[0])"
   ]
  },
  {
   "cell_type": "code",
   "execution_count": null,
   "metadata": {},
   "outputs": [],
   "source": []
  }
 ],
 "metadata": {
  "kernelspec": {
   "display_name": "Python 3",
   "language": "python",
   "name": "python3"
  },
  "language_info": {
   "codemirror_mode": {
    "name": "ipython",
    "version": 3
   },
   "file_extension": ".py",
   "mimetype": "text/x-python",
   "name": "python",
   "nbconvert_exporter": "python",
   "pygments_lexer": "ipython3",
   "version": "3.7.7"
  }
 },
 "nbformat": 4,
 "nbformat_minor": 4
}
